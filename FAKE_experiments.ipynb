{
 "cells": [
  {
   "cell_type": "code",
   "execution_count": 110,
   "id": "23a5dfd6",
   "metadata": {},
   "outputs": [
    {
     "data": {
      "text/plain": [
       "False"
      ]
     },
     "execution_count": 110,
     "metadata": {},
     "output_type": "execute_result"
    }
   ],
   "source": [
    "from langchain.text_splitter import RecursiveCharacterTextSplitter\n",
    "from langchain_community.document_loaders import WebBaseLoader\n",
    "from langchain_community.vectorstores import Chroma\n",
    "import key_value\n",
    "import os\n",
    "import pandas as pd\n",
    "from dotenv import load_dotenv\n",
    "load_dotenv()"
   ]
  },
  {
   "cell_type": "code",
   "execution_count": 176,
   "id": "049e2ea7",
   "metadata": {},
   "outputs": [],
   "source": [
    "os.environ[\"GROQ_API_KEY\"] =key_value.creds_data[\"groq\"]\n",
    "\n",
    "os.environ[\"LANGCHAIN_API_KEY\"] =key_value.creds_data[\"langchain\"]\n",
    "os.environ[\"LANGCHAIN_TRACING_V2\"] = \"true\"\n",
    "os.environ[\"LANGCHAIN_ENDPOINT\"] = \"https://api.smith.langchain.com\"\n",
    "\n",
    "os.environ[\"OPENAI_API_KEY\"] = key_value.creds_data[\"open_ai\"]"
   ]
  },
  {
   "cell_type": "code",
   "execution_count": 3,
   "id": "4e1f14e7",
   "metadata": {},
   "outputs": [],
   "source": [
    "from langchain_groq import ChatGroq\n",
    "import os\n",
    "llm=ChatGroq(model_name=\"llama3-70b-8192\")"
   ]
  },
  {
   "cell_type": "code",
   "execution_count": 4,
   "id": "1a1d23b6",
   "metadata": {},
   "outputs": [],
   "source": [
    "from langchain_core.chat_history import BaseChatMessageHistory\n",
    "from langchain_core.chat_history import InMemoryChatMessageHistory\n",
    "from langchain_core.runnables.history import RunnableWithMessageHistory"
   ]
  },
  {
   "cell_type": "code",
   "execution_count": 5,
   "id": "0571e4a9",
   "metadata": {},
   "outputs": [],
   "source": [
    "store={}\n",
    "def get_session_history(session_id: str) -> BaseChatMessageHistory:\n",
    "\n",
    "    if session_id not in store:\n",
    "\n",
    "        \n",
    "        store[session_id] = InMemoryChatMessageHistory()\n",
    "    return store[session_id]"
   ]
  },
  {
   "cell_type": "code",
   "execution_count": null,
   "id": "a40e3b78",
   "metadata": {},
   "outputs": [],
   "source": []
  },
  {
   "cell_type": "code",
   "execution_count": null,
   "id": "e0ab83e6",
   "metadata": {},
   "outputs": [],
   "source": [
    "prompt='''\n",
    "\n",
    "**Prompt:**  \n",
    "You are a technical interviewer evaluating a candidate for a **Python Developer** role with **2.5 years of experience**. Your goal is to assess their conceptual understanding and practical knowledge across key topics by asking **5 questions in total**.  \n",
    "\n",
    "### **Guidelines:**  \n",
    "- Ask **concise** questions that can be answered **in 2 lines**.  \n",
    "- **Do not** ask for code.  \n",
    "- Assess based on the following topics and difficulty levels:  \n",
    "  - **SQL** (4/5)  \n",
    "  - **Python** (4/5)  \n",
    "  - **Pandas** (3/5)  \n",
    "  - **Linux** (3/5)  \n",
    "- Assign marks **liberally** out of **10**, ensuring that if the candidate demonstrates understanding, they receive **good marks**.  \n",
    "\n",
    "### **JSON Output Format:**  \n",
    "- **First question:** `\"prev_question_marks\"` should be an **empty string** (`\"\"`).  \n",
    "- **Intermediate questions:** `\"prev_question_marks\"` should contain the marks for the previous answer.  \n",
    "- **Last question:** `\"Question\"` should be an **empty string** (`\"\"`).  \n",
    "\n",
    "### **Example Outputs:**  \n",
    "\n",
    "**First Question:**  \n",
    "```json\n",
    "{\n",
    "  \"prev_question_marks\": \"\",\n",
    "  \"Question\": \"What is the difference between INNER JOIN and LEFT JOIN in SQL?\"\n",
    "}\n",
    "```\n",
    "\n",
    "**Intermediate Question:**  \n",
    "```json\n",
    "{\n",
    "  \"prev_question_marks\": 7,\n",
    "  \"Question\": \"Why do we use pandas?\"\n",
    "}\n",
    "```\n",
    "\n",
    "**Last Question:**  \n",
    "```json\n",
    "{\n",
    "  \"prev_question_marks\": 8,\n",
    "  \"Question\": \"\"\n",
    "}\n",
    "```\n",
    "\n",
    "Proceed with the interview by following these rules strictly.'''\n",
    "    "
   ]
  },
  {
   "cell_type": "code",
   "execution_count": 10,
   "id": "b67bc62f",
   "metadata": {},
   "outputs": [
    {
     "name": "stdout",
     "output_type": "stream",
     "text": [
      "Recording...\n",
      "Finished recording.\n"
     ]
    }
   ],
   "source": [
    "import pyaudio\n",
    "import wave\n",
    "\n",
    "\n",
    "# Parameters for recording\n",
    "FORMAT = pyaudio.paInt16   # 16-bit resolution\n",
    "CHANNELS = 1               # Mono audio\n",
    "RATE = 44100               # 44.1kHz sampling rate\n",
    "CHUNK = 1024               # Number of audio frames per buffer\n",
    "RECORD_SECONDS = 10       # Duration of recording\n",
    "OUTPUT_FILENAME = \"output.wav\"\n",
    "\n",
    "# Initialize PyAudio\n",
    "audio = pyaudio.PyAudio()\n",
    "\n",
    "# Open the stream for recording\n",
    "stream = audio.open(format=FORMAT, channels=CHANNELS,\n",
    "                    rate=RATE, input=True,\n",
    "                    frames_per_buffer=CHUNK)\n",
    "\n",
    "print(\"Recording...\")\n",
    "\n",
    "frames = []\n",
    "\n",
    "# Read data from the stream in chunks\n",
    "for _ in range(0, int(RATE / CHUNK * RECORD_SECONDS)):\n",
    "    data = stream.read(CHUNK)\n",
    "    frames.append(data)\n",
    "\n",
    "print(\"Finished recording.\")\n",
    "\n",
    "# Stop and close the stream\n",
    "stream.stop_stream()\n",
    "stream.close()\n",
    "audio.terminate()\n",
    "\n",
    "# Save the recorded data as a WAV file\n",
    "wf = wave.open(OUTPUT_FILENAME, 'wb')\n",
    "wf.setnchannels(CHANNELS)\n",
    "wf.setsampwidth(audio.get_sample_size(FORMAT))\n",
    "wf.setframerate(RATE)\n",
    "wf.writeframes(b''.join(frames))\n",
    "wf.close()\n"
   ]
  },
  {
   "cell_type": "code",
   "execution_count": 22,
   "id": "6848cee9",
   "metadata": {},
   "outputs": [
    {
     "name": "stdout",
     "output_type": "stream",
     "text": [
      "Requirement already satisfied: wavio in c:\\anaconda3\\lib\\site-packages (0.0.9)\n",
      "Requirement already satisfied: numpy>=1.19.0 in c:\\anaconda3\\lib\\site-packages (from wavio) (1.26.4)\n",
      "Requirement already satisfied: scipy in c:\\anaconda3\\lib\\site-packages (1.11.4)\n",
      "Requirement already satisfied: numpy<1.28.0,>=1.21.6 in c:\\anaconda3\\lib\\site-packages (from scipy) (1.26.4)\n"
     ]
    }
   ],
   "source": [
    "! pip install wavio\n",
    "! pip install scipy\n",
    "! pip install vosk soundfile\n",
    "! pip3 install pygame keyboard\n",
    "!pip3 install  speechrecognition pyaudio pyttsx3\n",
    "! pip install playsound pydub gtts"
   ]
  },
  {
   "cell_type": "code",
   "execution_count": 1,
   "id": "57cfe400",
   "metadata": {},
   "outputs": [
    {
     "name": "stdout",
     "output_type": "stream",
     "text": [
      "Recording...\n",
      "Finished recording.\n"
     ]
    }
   ],
   "source": [
    "import pyaudio\n",
    "import wave\n",
    "import sounddevice as sd\n",
    "devices = sd.query_devices()\n",
    "#print(devices)\n",
    "# Parameters for recording\n",
    "FORMAT = pyaudio.paInt16   # 16-bit resolution\n",
    "CHANNELS = 1          # Mono audio\n",
    "RATE = 44100               # 44.1kHz sampling rate\n",
    "CHUNK = 1024               # Number of audio frames per buffer\n",
    "RECORD_SECONDS = 5     # Duration of recording\n",
    "OUTPUT_FILENAME = \"output.wav\"\n",
    "\n",
    "# Initialize PyAudio\n",
    "audio = pyaudio.PyAudio()\n",
    "\n",
    "# Open the stream for recording\n",
    "stream = audio.open(format=FORMAT, channels=CHANNELS,\n",
    "                    rate=RATE, input=True,input_device_index=2,\n",
    "                    frames_per_buffer=CHUNK)\n",
    "\n",
    "print(\"Recording...\")\n",
    "\n",
    "frames = []\n",
    "\n",
    "# Read data from the stream in chunks\n",
    "for _ in range(0, int(RATE / CHUNK * RECORD_SECONDS)):\n",
    "    data = stream.read(CHUNK)\n",
    "    frames.append(data)\n",
    "\n",
    "print(\"Finished recording.\")\n",
    "\n",
    "# Stop and close the stream\n",
    "stream.stop_stream()\n",
    "stream.close()\n",
    "audio.terminate()\n",
    "\n",
    "# Save the recorded data as a WAV file\n",
    "wf = wave.open(OUTPUT_FILENAME, 'wb')\n",
    "wf.setnchannels(CHANNELS)\n",
    "wf.setsampwidth(audio.get_sample_size(FORMAT))\n",
    "wf.setframerate(RATE)\n",
    "wf.writeframes(b''.join(frames))\n",
    "wf.close()\n"
   ]
  },
  {
   "cell_type": "code",
   "execution_count": null,
   "id": "7d55dbf4",
   "metadata": {},
   "outputs": [],
   "source": []
  },
  {
   "cell_type": "code",
   "execution_count": 116,
   "id": "c1c1c40b",
   "metadata": {},
   "outputs": [],
   "source": [
    "import pyaudio\n",
    "import wave\n",
    "import keyboard\n",
    "\n",
    "# Audio settings\n",
    "FORMAT = pyaudio.paInt16\n",
    "CHANNELS = 1\n",
    "RATE = 44100  # Sample rate\n",
    "CHUNK = 1024  # Buffer size\n",
    "OUTPUT_FILENAME = \"recorded_audio.wav\"\n",
    "\n",
    "audio = pyaudio.PyAudio()\n",
    "\n",
    "# Function to record audio\n",
    "def record_audio():\n",
    "    print(\"Press SPACEBAR to start recording...\")\n",
    "    \n",
    "    while True:\n",
    "        keyboard.wait(\"space\")  # Wait for spacebar press\n",
    "        print(\"Recording started... Press SPACEBAR again to stop.\")\n",
    "        \n",
    "        stream = audio.open(format=FORMAT, channels=CHANNELS,\n",
    "                            rate=RATE, input=True,input_device_index=2,\n",
    "                            frames_per_buffer=CHUNK)\n",
    "\n",
    "        frames = []\n",
    "        \n",
    "        while True:\n",
    "            data = stream.read(CHUNK, exception_on_overflow=False)\n",
    "            frames.append(data)\n",
    "            if keyboard.is_pressed(\"space\"):  # Stop recording on spacebar press\n",
    "                break\n",
    "        \n",
    "        print(\"Recording stopped.\")\n",
    "\n",
    "        stream.stop_stream()\n",
    "        stream.close()\n",
    "\n",
    "        # Save the recorded audio\n",
    "        wf = wave.open(OUTPUT_FILENAME, \"wb\")\n",
    "        wf.setnchannels(CHANNELS)\n",
    "        wf.setsampwidth(audio.get_sample_size(FORMAT))\n",
    "        wf.setframerate(RATE)\n",
    "        wf.writeframes(b\"\".join(frames))\n",
    "        wf.close()\n",
    "        \n",
    "        return OUTPUT_FILENAME\n"
   ]
  },
  {
   "cell_type": "code",
   "execution_count": 156,
   "id": "cfff8c47",
   "metadata": {},
   "outputs": [],
   "source": [
    "import speech_recognition as sr\n",
    "def audio_text(OUTPUT_FILENAME):\n",
    "    r = sr.Recognizer()\n",
    "    hellow=sr.AudioFile(OUTPUT_FILENAME)\n",
    "    with hellow as source:\n",
    "        audio = r.record(source)\n",
    "    try:\n",
    "        s = r.recognize_google(audio)\n",
    "        print(s)\n",
    "        return s\n",
    "    except Exception as e: \n",
    "        print(\"Exception: \"+str(e)) \n",
    "        return \"error\"\n"
   ]
  },
  {
   "cell_type": "code",
   "execution_count": 118,
   "id": "0fe021c2",
   "metadata": {},
   "outputs": [],
   "source": [
    "from pydub import AudioSegment\n",
    "from pydub.playback import play\n",
    "def wav_audio_player(OUTPUT_FILENAME ):\n",
    "    sound = AudioSegment.from_wav(OUTPUT_FILENAME)\n",
    "    play(sound)\n",
    "    "
   ]
  },
  {
   "cell_type": "code",
   "execution_count": 165,
   "id": "1884807a",
   "metadata": {},
   "outputs": [],
   "source": [
    "import os\n",
    "from pygame import mixer  # Load the popular external library\n",
    "def mp3_audio_player(audio_file_name):\n",
    "    mixer.init()\n",
    "    mixer.music.load(audio_file_name)\n",
    "    mixer.music.play()\n",
    "    while mixer.music.get_busy():\n",
    "        pass\n",
    "    mixer.music.load(\"recorded_audi.mp3\")\n",
    "    os.remove(audio_file_name)"
   ]
  },
  {
   "cell_type": "code",
   "execution_count": 120,
   "id": "6b1082e1",
   "metadata": {},
   "outputs": [],
   "source": [
    "def text_to_mp3(text,audio_file_name):\n",
    "    tts = gTTS(text=text, lang=\"en\",slow=False)\n",
    "    tts.save(audio_file_name)\n",
    "    "
   ]
  },
  {
   "cell_type": "code",
   "execution_count": 126,
   "id": "67f02b3e",
   "metadata": {},
   "outputs": [],
   "source": [
    "def process_response(response_json):\n",
    "    global response_store\n",
    "    prev_marks = response_json.get(\"prev_question_marks\")\n",
    "    new_question = response_json.get(\"Question\")\n",
    "    \n",
    "    # If there is a previous question and marks are provided (not the first question)\n",
    "    if prev_marks != \"\" and not response_store.empty:\n",
    "        # Update the last row's marks column\n",
    "        response_store.at[response_store.index[-1], \"marks\"] = prev_marks\n",
    "    \n",
    "    # If new_question is not empty (i.e., not the last question)\n",
    "    if new_question != \"\":\n",
    "        # Create a new row with the question, other fields can be left blank or defaulted\n",
    "        new_row = {\n",
    "            \"cust_name\": \"abhishek\",  # assuming empty initially\n",
    "            \"question\": new_question,\n",
    "            \"answer\": \"\",\n",
    "            \"marks\": \"\"\n",
    "        }\n",
    "        # Append the new row with a new index value\n",
    "        response_store = pd.concat([response_store, pd.DataFrame([new_row])])\n",
    "        return response_store"
   ]
  },
  {
   "cell_type": "code",
   "execution_count": 166,
   "id": "d8942920",
   "metadata": {},
   "outputs": [],
   "source": [
    "\n",
    "def first_question(response_store):\n",
    "    audio_file_name = \"recorded_audi2.mp3\"\n",
    "    question=\"Tell me about your self! \"\n",
    "    print(question)\n",
    "    data1={\"prev_question_marks\":\"\", \"Question\": question}\n",
    "    #res=json.dumps(data1)\n",
    "    response_store=process_response(data1)\n",
    "    text_to_mp3(question,audio_file_name)\n",
    "    mp3_audio_player(audio_file_name)  \n",
    "    file_name=record_audio()\n",
    "    answer=audio_text(file_name)\n",
    "    \n",
    "    response_store.at[response_store.index[-1], \"answer\"] =answer\n",
    "    return response_store\n",
    "response_store=pd.DataFrame(columns=[\"cust_name\", \"question\", \"answer\", \"marks\"])\n",
    "\n",
    "\n"
   ]
  },
  {
   "cell_type": "code",
   "execution_count": 173,
   "id": "4c5b1ded",
   "metadata": {},
   "outputs": [
    {
     "name": "stdout",
     "output_type": "stream",
     "text": [
      "Tell me about your self! \n",
      "Press SPACEBAR to start recording...\n",
      "Recording started... Press SPACEBAR again to stop.\n",
      "Recording stopped.\n",
      "hello my name is Abhishek Vardhan Narayana I am currently working at DVS Tech how are you\n",
      "Let's begin the interview. Here's the first question:\n",
      "\n",
      "```json\n",
      "{\n",
      "  \"prev_question_marks\": \"\",\n",
      "  \"Question\": \"What is the difference between INNER JOIN and LEFT JOIN in SQL?\"\n",
      "}\n",
      "```\n",
      "\n",
      "Please respond with your answer.\n"
     ]
    },
    {
     "ename": "JSONDecodeError",
     "evalue": "Expecting value: line 1 column 1 (char 0)",
     "output_type": "error",
     "traceback": [
      "\u001b[1;31m---------------------------------------------------------------------------\u001b[0m",
      "\u001b[1;31mJSONDecodeError\u001b[0m                           Traceback (most recent call last)",
      "Cell \u001b[1;32mIn[173], line 19\u001b[0m\n\u001b[0;32m     16\u001b[0m         answer\u001b[38;5;241m=\u001b[39maudio_text(file_name)\n\u001b[0;32m     17\u001b[0m         response_store\u001b[38;5;241m.\u001b[39mat[response_store\u001b[38;5;241m.\u001b[39mindex[\u001b[38;5;241m-\u001b[39m\u001b[38;5;241m1\u001b[39m], \u001b[38;5;124m\"\u001b[39m\u001b[38;5;124manswer\u001b[39m\u001b[38;5;124m\"\u001b[39m] \u001b[38;5;241m=\u001b[39manswer\n\u001b[1;32m---> 19\u001b[0m main_app(\u001b[38;5;124m\"\u001b[39m\u001b[38;5;124mabhishek\u001b[39m\u001b[38;5;124m\"\u001b[39m)\n",
      "Cell \u001b[1;32mIn[173], line 10\u001b[0m, in \u001b[0;36mmain_app\u001b[1;34m(session_name)\u001b[0m\n\u001b[0;32m      8\u001b[0m ai_response \u001b[38;5;241m=\u001b[39mmodel_with_memory\u001b[38;5;241m.\u001b[39minvoke((i1),config\u001b[38;5;241m=\u001b[39mconfig)\u001b[38;5;241m.\u001b[39mcontent\n\u001b[0;32m      9\u001b[0m \u001b[38;5;28mprint\u001b[39m(ai_response)\n\u001b[1;32m---> 10\u001b[0m response_json \u001b[38;5;241m=\u001b[39m json\u001b[38;5;241m.\u001b[39mloads(ai_response)\n\u001b[0;32m     11\u001b[0m question\u001b[38;5;241m=\u001b[39mresponse_json\u001b[38;5;241m.\u001b[39mget(\u001b[38;5;124m\"\u001b[39m\u001b[38;5;124mQuestion\u001b[39m\u001b[38;5;124m\"\u001b[39m)\n\u001b[0;32m     12\u001b[0m text_to_mp3(question,audio_file_name)\n",
      "File \u001b[1;32mC:\\anaconda3\\Lib\\json\\__init__.py:346\u001b[0m, in \u001b[0;36mloads\u001b[1;34m(s, cls, object_hook, parse_float, parse_int, parse_constant, object_pairs_hook, **kw)\u001b[0m\n\u001b[0;32m    341\u001b[0m     s \u001b[38;5;241m=\u001b[39m s\u001b[38;5;241m.\u001b[39mdecode(detect_encoding(s), \u001b[38;5;124m'\u001b[39m\u001b[38;5;124msurrogatepass\u001b[39m\u001b[38;5;124m'\u001b[39m)\n\u001b[0;32m    343\u001b[0m \u001b[38;5;28;01mif\u001b[39;00m (\u001b[38;5;28mcls\u001b[39m \u001b[38;5;129;01mis\u001b[39;00m \u001b[38;5;28;01mNone\u001b[39;00m \u001b[38;5;129;01mand\u001b[39;00m object_hook \u001b[38;5;129;01mis\u001b[39;00m \u001b[38;5;28;01mNone\u001b[39;00m \u001b[38;5;129;01mand\u001b[39;00m\n\u001b[0;32m    344\u001b[0m         parse_int \u001b[38;5;129;01mis\u001b[39;00m \u001b[38;5;28;01mNone\u001b[39;00m \u001b[38;5;129;01mand\u001b[39;00m parse_float \u001b[38;5;129;01mis\u001b[39;00m \u001b[38;5;28;01mNone\u001b[39;00m \u001b[38;5;129;01mand\u001b[39;00m\n\u001b[0;32m    345\u001b[0m         parse_constant \u001b[38;5;129;01mis\u001b[39;00m \u001b[38;5;28;01mNone\u001b[39;00m \u001b[38;5;129;01mand\u001b[39;00m object_pairs_hook \u001b[38;5;129;01mis\u001b[39;00m \u001b[38;5;28;01mNone\u001b[39;00m \u001b[38;5;129;01mand\u001b[39;00m \u001b[38;5;129;01mnot\u001b[39;00m kw):\n\u001b[1;32m--> 346\u001b[0m     \u001b[38;5;28;01mreturn\u001b[39;00m _default_decoder\u001b[38;5;241m.\u001b[39mdecode(s)\n\u001b[0;32m    347\u001b[0m \u001b[38;5;28;01mif\u001b[39;00m \u001b[38;5;28mcls\u001b[39m \u001b[38;5;129;01mis\u001b[39;00m \u001b[38;5;28;01mNone\u001b[39;00m:\n\u001b[0;32m    348\u001b[0m     \u001b[38;5;28mcls\u001b[39m \u001b[38;5;241m=\u001b[39m JSONDecoder\n",
      "File \u001b[1;32mC:\\anaconda3\\Lib\\json\\decoder.py:337\u001b[0m, in \u001b[0;36mJSONDecoder.decode\u001b[1;34m(self, s, _w)\u001b[0m\n\u001b[0;32m    332\u001b[0m \u001b[38;5;28;01mdef\u001b[39;00m \u001b[38;5;21mdecode\u001b[39m(\u001b[38;5;28mself\u001b[39m, s, _w\u001b[38;5;241m=\u001b[39mWHITESPACE\u001b[38;5;241m.\u001b[39mmatch):\n\u001b[0;32m    333\u001b[0m \u001b[38;5;250m    \u001b[39m\u001b[38;5;124;03m\"\"\"Return the Python representation of ``s`` (a ``str`` instance\u001b[39;00m\n\u001b[0;32m    334\u001b[0m \u001b[38;5;124;03m    containing a JSON document).\u001b[39;00m\n\u001b[0;32m    335\u001b[0m \n\u001b[0;32m    336\u001b[0m \u001b[38;5;124;03m    \"\"\"\u001b[39;00m\n\u001b[1;32m--> 337\u001b[0m     obj, end \u001b[38;5;241m=\u001b[39m \u001b[38;5;28mself\u001b[39m\u001b[38;5;241m.\u001b[39mraw_decode(s, idx\u001b[38;5;241m=\u001b[39m_w(s, \u001b[38;5;241m0\u001b[39m)\u001b[38;5;241m.\u001b[39mend())\n\u001b[0;32m    338\u001b[0m     end \u001b[38;5;241m=\u001b[39m _w(s, end)\u001b[38;5;241m.\u001b[39mend()\n\u001b[0;32m    339\u001b[0m     \u001b[38;5;28;01mif\u001b[39;00m end \u001b[38;5;241m!=\u001b[39m \u001b[38;5;28mlen\u001b[39m(s):\n",
      "File \u001b[1;32mC:\\anaconda3\\Lib\\json\\decoder.py:355\u001b[0m, in \u001b[0;36mJSONDecoder.raw_decode\u001b[1;34m(self, s, idx)\u001b[0m\n\u001b[0;32m    353\u001b[0m     obj, end \u001b[38;5;241m=\u001b[39m \u001b[38;5;28mself\u001b[39m\u001b[38;5;241m.\u001b[39mscan_once(s, idx)\n\u001b[0;32m    354\u001b[0m \u001b[38;5;28;01mexcept\u001b[39;00m \u001b[38;5;167;01mStopIteration\u001b[39;00m \u001b[38;5;28;01mas\u001b[39;00m err:\n\u001b[1;32m--> 355\u001b[0m     \u001b[38;5;28;01mraise\u001b[39;00m JSONDecodeError(\u001b[38;5;124m\"\u001b[39m\u001b[38;5;124mExpecting value\u001b[39m\u001b[38;5;124m\"\u001b[39m, s, err\u001b[38;5;241m.\u001b[39mvalue) \u001b[38;5;28;01mfrom\u001b[39;00m \u001b[38;5;28;01mNone\u001b[39;00m\n\u001b[0;32m    356\u001b[0m \u001b[38;5;28;01mreturn\u001b[39;00m obj, end\n",
      "\u001b[1;31mJSONDecodeError\u001b[0m: Expecting value: line 1 column 1 (char 0)"
     ]
    }
   ],
   "source": [
    "config = {\"configurable\": {\"session_id\": \"new_chat5\"}}\n",
    "response_store1=pd.DataFrame(columns=[\"cust_name\", \"question\", \"answer\", \"marks\"])\n",
    "audio_file_name=\"recorded_audit.mp3\"\n",
    "def main_app(session_name):\n",
    "    i1=prompt\n",
    "    response_store=first_question(response_store1)\n",
    "    for i in range(5):\n",
    "        ai_response =model_with_memory.invoke((i1),config=config).content\n",
    "        print(ai_response)\n",
    "        response_json = json.loads(ai_response)\n",
    "        question=response_json.get(\"Question\")\n",
    "        text_to_mp3(question,audio_file_name)\n",
    "        mp3_audio_player(audio_file_name)\n",
    "        response_store=process_response(response_json)\n",
    "        file_name=record_audio()  \n",
    "        answer=audio_text(file_name)\n",
    "        response_store.at[response_store.index[-1], \"answer\"] =answer\n",
    "               \n",
    "main_app(\"abhishek\")  "
   ]
  },
  {
   "cell_type": "code",
   "execution_count": 168,
   "id": "aa3cf894",
   "metadata": {},
   "outputs": [
    {
     "data": {
      "text/html": [
       "<div>\n",
       "<style scoped>\n",
       "    .dataframe tbody tr th:only-of-type {\n",
       "        vertical-align: middle;\n",
       "    }\n",
       "\n",
       "    .dataframe tbody tr th {\n",
       "        vertical-align: top;\n",
       "    }\n",
       "\n",
       "    .dataframe thead th {\n",
       "        text-align: right;\n",
       "    }\n",
       "</style>\n",
       "<table border=\"1\" class=\"dataframe\">\n",
       "  <thead>\n",
       "    <tr style=\"text-align: right;\">\n",
       "      <th></th>\n",
       "      <th>cust_name</th>\n",
       "      <th>question</th>\n",
       "      <th>answer</th>\n",
       "      <th>marks</th>\n",
       "    </tr>\n",
       "  </thead>\n",
       "  <tbody>\n",
       "    <tr>\n",
       "      <th>0</th>\n",
       "      <td>abhishek</td>\n",
       "      <td>Tell me about your self!</td>\n",
       "      <td>pseudo means super user</td>\n",
       "      <td>9</td>\n",
       "    </tr>\n",
       "    <tr>\n",
       "      <th>0</th>\n",
       "      <td>abhishek</td>\n",
       "      <td>What is the purpose of the 'sudo' command in L...</td>\n",
       "      <td>pseudo means super user</td>\n",
       "      <td></td>\n",
       "    </tr>\n",
       "  </tbody>\n",
       "</table>\n",
       "</div>"
      ],
      "text/plain": [
       "  cust_name                                           question  \\\n",
       "0  abhishek                          Tell me about your self!    \n",
       "0  abhishek  What is the purpose of the 'sudo' command in L...   \n",
       "\n",
       "                    answer marks  \n",
       "0  pseudo means super user     9  \n",
       "0  pseudo means super user        "
      ]
     },
     "execution_count": 168,
     "metadata": {},
     "output_type": "execute_result"
    }
   ],
   "source": [
    "response_store"
   ]
  },
  {
   "cell_type": "code",
   "execution_count": null,
   "id": "19d61267",
   "metadata": {},
   "outputs": [],
   "source": [
    "\n"
   ]
  },
  {
   "cell_type": "code",
   "execution_count": null,
   "id": "f86372ab",
   "metadata": {},
   "outputs": [],
   "source": []
  }
 ],
 "metadata": {
  "kernelspec": {
   "display_name": "Python 3 (ipykernel)",
   "language": "python",
   "name": "python3"
  },
  "language_info": {
   "codemirror_mode": {
    "name": "ipython",
    "version": 3
   },
   "file_extension": ".py",
   "mimetype": "text/x-python",
   "name": "python",
   "nbconvert_exporter": "python",
   "pygments_lexer": "ipython3",
   "version": "3.11.7"
  }
 },
 "nbformat": 4,
 "nbformat_minor": 5
}
